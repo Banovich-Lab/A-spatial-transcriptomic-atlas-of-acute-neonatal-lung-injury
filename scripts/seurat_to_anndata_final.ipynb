{
 "cells": [
  {
   "cell_type": "code",
   "execution_count": 1,
   "id": "234623a3-8da9-40a5-be04-f9b98c3d2dd0",
   "metadata": {
    "scrolled": true
   },
   "outputs": [
    {
     "name": "stderr",
     "output_type": "stream",
     "text": [
      "/tmp/ipykernel_2150325/1529312572.py:12: DeprecationWarning: The global conversion available with activate() is deprecated and will be removed in the next major release. Use a local converter.\n",
      "  anndata2ri.activate()\n"
     ]
    },
    {
     "name": "stdout",
     "output_type": "stream",
     "text": [
      "\n",
      "    WARNING: The R package \"reticulate\" only fixed recently\n",
      "    an issue that caused a segfault when used with rpy2:\n",
      "    https://github.com/rstudio/reticulate/pull/1188\n",
      "    Make sure that you use a version of that package that includes\n",
      "    the fix.\n",
      "    "
     ]
    }
   ],
   "source": [
    "#Kernal: Python[conda env:rpy2]\n",
    "\n",
    "#Library imports\n",
    "import pickle\n",
    "import anndata2ri\n",
    "import scanpy\n",
    "import rpy2\n",
    "import rpy2.robjects as robjects\n",
    "from rpy2.robjects.packages import importr\n",
    "\n",
    "#This activates the object conversion.\n",
    "anndata2ri.activate()\n",
    "%load_ext rpy2.ipython\n",
    "\n",
    "#Import needed R libraries.\n",
    "seurat = importr('Seurat')\n",
    "base = importr('base')"
   ]
  },
  {
   "cell_type": "markdown",
   "id": "20289961-61bc-4cd0-98f4-f77dcbadd60a",
   "metadata": {},
   "source": [
    "### ENTIRE DATASET"
   ]
  },
  {
   "cell_type": "code",
   "execution_count": 2,
   "id": "5330556f-aacd-439f-a2cd-ef07241d5fcd",
   "metadata": {},
   "outputs": [
    {
     "name": "stderr",
     "output_type": "stream",
     "text": [
      "/opt/conda/envs/rpy2/lib/python3.10/site-packages/anndata2ri/_r2py.py:132: FutureWarning: X.dtype being converted to np.float32 from float64. In the next version of anndata (0.9) conversion will not be automatic. Pass dtype explicitly to avoid this warning. Pass `AnnData(X, dtype=X.dtype, ...)` to get the future behavour.\n",
      "  return AnnData(exprs, obs, var, uns, obsm, layers=layers)\n"
     ]
    }
   ],
   "source": [
    "#Read Seurat object into R\n",
    "robjects.r('seurat_object = readRDS(\"/scratch/smallapragada/run2/run2_filtered_split_adj_2024_08_15.rds\")')\n",
    "\n",
    "#Merge layers in Seurat object. \n",
    "robjects.r('seurat_object = JoinLayers(seurat_object)')\n",
    "\n",
    "#Convert Seurat object to Anndata.\n",
    "adata = robjects.r('as.SingleCellExperiment(seurat_object)')\n",
    "\n",
    "#Check to make sure conversion worked and possibly cast counts to array if necessary.\n",
    "adata.X = adata.X.toarray()\n",
    "\n",
    "#Delete added layers.\n",
    "del adata.layers\n",
    "\n",
    "#Write anndata to pickle file.\n",
    "with open(\"merged_spatial_filtered\", \"wb\") as adata_object:\n",
    "    pickle.dump(adata, adata_object)\n",
    "\n",
    "#Migrate to Clustering.ipynb script."
   ]
  },
  {
   "cell_type": "markdown",
   "id": "17e6c78a-aa23-4519-871f-e0f4357c7c47",
   "metadata": {
    "jp-MarkdownHeadingCollapsed": true
   },
   "source": [
    "### AIRWAY"
   ]
  },
  {
   "cell_type": "code",
   "execution_count": 6,
   "id": "e228a20d-1cf5-4383-a115-edbdcf0507ae",
   "metadata": {
    "jp-MarkdownHeadingCollapsed": true
   },
   "outputs": [],
   "source": [
    "## SUBLINEAGE OBJECT PROCESSING - FULL AIRWAY OBJECT\n",
    "\n",
    "#Read Seurat object into R\n",
    "robjects.r('seurat_object = readRDS(\"/scratch/smallapragada/run2/run2_airway_2024_08_15.rds\")')\n",
    "\n",
    "#Convert Seurat object to Anndata.\n",
    "adata = robjects.r('as.SingleCellExperiment(seurat_object)')\n",
    "\n",
    "#Check to make sure conversion worked and possibly cast counts to array if necessary.\n",
    "adata.X\n",
    "\n",
    "#Write anndata to pickle file.\n",
    "with open(\"merged_spatial_filtered_airway\", \"wb\") as adata_object:\n",
    "    pickle.dump(adata, adata_object)\n",
    "\n",
    "#Migrate to Clustering.ipynb script."
   ]
  },
  {
   "cell_type": "code",
   "execution_count": 2,
   "id": "270439a5-1567-43c6-9acc-0c4d42763ac1",
   "metadata": {},
   "outputs": [
    {
     "name": "stderr",
     "output_type": "stream",
     "text": [
      "/opt/conda/envs/rpy2/lib/python3.10/site-packages/anndata2ri/_r2py.py:132: FutureWarning: X.dtype being converted to np.float32 from float64. In the next version of anndata (0.9) conversion will not be automatic. Pass dtype explicitly to avoid this warning. Pass `AnnData(X, dtype=X.dtype, ...)` to get the future behavour.\n",
      "  return AnnData(exprs, obs, var, uns, obsm, layers=layers)\n"
     ]
    }
   ],
   "source": [
    "## SUBLINEAGE OBJECT PROCESSING - AIRWAY (RECLUSTERING OF CLUSTER 2)\n",
    "\n",
    "#Read Seurat object into R\n",
    "robjects.r('seurat_object = readRDS(\"/scratch/smallapragada/run2/run2_airway_reclustering_c2_2024_08_15.rds\")')\n",
    "\n",
    "#Convert Seurat object to Anndata.\n",
    "adata = robjects.r('as.SingleCellExperiment(seurat_object)')\n",
    "\n",
    "#Check to make sure conversion worked and possibly cast counts to array if necessary.\n",
    "adata.X\n",
    "\n",
    "#Write anndata to pickle file.\n",
    "with open(\"merged_spatial_filtered_airway_c2\", \"wb\") as adata_object:\n",
    "    pickle.dump(adata, adata_object)\n",
    "\n",
    "#Migrate to Clustering.ipynb script."
   ]
  },
  {
   "cell_type": "code",
   "execution_count": 3,
   "id": "0d8c4514-a6ab-45c2-b843-88d1b1ff5831",
   "metadata": {},
   "outputs": [],
   "source": [
    "## SUBLINEAGE OBJECT PROCESSING - AIRWAY (RECLUSTERING OF CLUSTER 3)\n",
    "\n",
    "#Read Seurat object into R\n",
    "robjects.r('seurat_object = readRDS(\"/scratch/smallapragada/run2/run2_airway_reclustering_c3_2024_08_15.rds\")')\n",
    "\n",
    "#Convert Seurat object to Anndata.\n",
    "adata = robjects.r('as.SingleCellExperiment(seurat_object)')\n",
    "\n",
    "#Check to make sure conversion worked and possibly cast counts to array if necessary.\n",
    "adata.X\n",
    "\n",
    "#Write anndata to pickle file.\n",
    "with open(\"merged_spatial_filtered_airway_c3\", \"wb\") as adata_object:\n",
    "    pickle.dump(adata, adata_object)\n",
    "\n",
    "#Migrate to Clustering.ipynb script."
   ]
  },
  {
   "cell_type": "code",
   "execution_count": 4,
   "id": "41937dbc-3e52-48a7-bd36-466b10e88bb8",
   "metadata": {},
   "outputs": [],
   "source": [
    "## SUBLINEAGE OBJECT PROCESSING - AIRWAY (RECLUSTERING OF CLUSTER 5)\n",
    "\n",
    "#Read Seurat object into R\n",
    "robjects.r('seurat_object = readRDS(\"/scratch/smallapragada/run2/run2_airway_reclustering_c5_2024_08_15.rds\")')\n",
    "\n",
    "#Convert Seurat object to Anndata.\n",
    "adata = robjects.r('as.SingleCellExperiment(seurat_object)')\n",
    "\n",
    "#Check to make sure conversion worked and possibly cast counts to array if necessary.\n",
    "adata.X\n",
    "\n",
    "#Write anndata to pickle file.\n",
    "with open(\"merged_spatial_filtered_airway_c5\", \"wb\") as adata_object:\n",
    "    pickle.dump(adata, adata_object)\n",
    "\n",
    "#Migrate to Clustering.ipynb script."
   ]
  },
  {
   "cell_type": "code",
   "execution_count": 5,
   "id": "257f18cf-af03-45ef-a0e9-f64651490dd2",
   "metadata": {},
   "outputs": [],
   "source": [
    "## SUBLINEAGE OBJECT PROCESSING - AIRWAY (RECLUSTERING OF CLUSTER 6)\n",
    "\n",
    "#Read Seurat object into R\n",
    "robjects.r('seurat_object = readRDS(\"/scratch/smallapragada/run2/run2_airway_reclustering_c6_2024_08_15.rds\")')\n",
    "\n",
    "#Convert Seurat object to Anndata.\n",
    "adata = robjects.r('as.SingleCellExperiment(seurat_object)')\n",
    "\n",
    "#Check to make sure conversion worked and possibly cast counts to array if necessary.\n",
    "adata.X\n",
    "\n",
    "#Write anndata to pickle file.\n",
    "with open(\"merged_spatial_filtered_airway_c6\", \"wb\") as adata_object:\n",
    "    pickle.dump(adata, adata_object)\n",
    "\n",
    "#Migrate to Clustering.ipynb script."
   ]
  },
  {
   "cell_type": "markdown",
   "id": "3b7135e4-b829-49f1-9f3a-f97ca1b6b944",
   "metadata": {
    "jp-MarkdownHeadingCollapsed": true
   },
   "source": [
    "### ALVEOLAR"
   ]
  },
  {
   "cell_type": "code",
   "execution_count": 2,
   "id": "6e5fd93d-02ab-4a7a-bb8f-4473358f1672",
   "metadata": {},
   "outputs": [
    {
     "name": "stderr",
     "output_type": "stream",
     "text": [
      "/opt/conda/envs/rpy2/lib/python3.10/site-packages/anndata2ri/_r2py.py:132: FutureWarning: X.dtype being converted to np.float32 from float64. In the next version of anndata (0.9) conversion will not be automatic. Pass dtype explicitly to avoid this warning. Pass `AnnData(X, dtype=X.dtype, ...)` to get the future behavour.\n",
      "  return AnnData(exprs, obs, var, uns, obsm, layers=layers)\n"
     ]
    }
   ],
   "source": [
    "## SUBLINEAGE OBJECT PROCESSING - FULL ALVEOLAR OBJECT\n",
    "\n",
    "#Read Seurat object into R\n",
    "robjects.r('seurat_object = readRDS(\"/scratch/smallapragada/run2/run2_alv_2024_08_15.rds\")')\n",
    "\n",
    "#Convert Seurat object to Anndata.\n",
    "adata = robjects.r('as.SingleCellExperiment(seurat_object)')\n",
    "\n",
    "#Check to make sure conversion worked and possibly cast counts to array if necessary.\n",
    "adata.X \n",
    "\n",
    "#Write anndata to pickle file.\n",
    "with open(\"merged_spatial_filtered_alv\", \"wb\") as adata_object:\n",
    "    pickle.dump(adata, adata_object)\n",
    "\n",
    "#Migrate to Clustering.ipynb script."
   ]
  },
  {
   "cell_type": "code",
   "execution_count": 4,
   "id": "05271cb1-371e-496e-a3e2-94c224a088e2",
   "metadata": {},
   "outputs": [],
   "source": [
    "## SUBLINEAGE OBJECT PROCESSING - ALVEOLAR (RECLUSTERING OF CLUSTER 1)\n",
    "\n",
    "#Read Seurat object into R\n",
    "robjects.r('seurat_object = readRDS(\"/scratch/smallapragada/run2/run2_alv_reclustering_c1_2024_08_15.rds\")')\n",
    "\n",
    "#Convert Seurat object to Anndata.\n",
    "adata = robjects.r('as.SingleCellExperiment(seurat_object)')\n",
    "\n",
    "#Check to make sure conversion worked and possibly cast counts to array if necessary.\n",
    "adata.X \n",
    "\n",
    "#Write anndata to pickle file.\n",
    "with open(\"merged_spatial_filtered_alv_c1\", \"wb\") as adata_object:\n",
    "    pickle.dump(adata, adata_object)\n",
    "\n",
    "#Migrate to Clustering.ipynb script."
   ]
  },
  {
   "cell_type": "code",
   "execution_count": 5,
   "id": "fe023221-3b65-4b84-954b-bdcd62c2d4c7",
   "metadata": {},
   "outputs": [],
   "source": [
    "## SUBLINEAGE OBJECT PROCESSING - ALVEOLAR (RECLUSTERING OF CLUSTER 7)\n",
    "\n",
    "#Read Seurat object into R\n",
    "robjects.r('seurat_object = readRDS(\"/scratch/smallapragada/run2/run2_alv_reclustering_c7_2024_08_15.rds\")')\n",
    "\n",
    "#Convert Seurat object to Anndata.\n",
    "adata = robjects.r('as.SingleCellExperiment(seurat_object)')\n",
    "\n",
    "#Check to make sure conversion worked and possibly cast counts to array if necessary.\n",
    "adata.X\n",
    "\n",
    "#Write anndata to pickle file.\n",
    "with open(\"merged_spatial_filtered_alv_c7\", \"wb\") as adata_object:\n",
    "    pickle.dump(adata, adata_object)\n",
    "\n",
    "#Migrate to Clustering.ipynb script."
   ]
  },
  {
   "cell_type": "markdown",
   "id": "cee8b10c-0d5f-4a51-8f77-e28d9aeee923",
   "metadata": {
    "jp-MarkdownHeadingCollapsed": true
   },
   "source": [
    "### ENDOTHELIAL"
   ]
  },
  {
   "cell_type": "code",
   "execution_count": null,
   "id": "d147f2d4-f09f-4097-855e-3cfeb6c0cba7",
   "metadata": {},
   "outputs": [],
   "source": [
    "## SUBLINEAGE OBJECT PROCESSING - FULL ENDOTHELIAL OBJECT\n",
    "\n",
    "#Read Seurat object into R\n",
    "robjects.r('seurat_object = readRDS(\"/scratch/smallapragada/run2/run2_endo_2024_08_15.rds\")')\n",
    "\n",
    "#Convert Seurat object to Anndata.\n",
    "adata = robjects.r('as.SingleCellExperiment(seurat_object)')\n",
    "\n",
    "#Check to make sure conversion worked and possibly cast counts to array if necessary.\n",
    "adata.X\n",
    "\n",
    "#Write anndata to pickle file.\n",
    "with open(\"merged_spatial_filtered_endo\", \"wb\") as adata_object:\n",
    "    pickle.dump(adata, adata_object)\n",
    "\n",
    "#Migrate to Clustering.ipynb script."
   ]
  },
  {
   "cell_type": "code",
   "execution_count": 3,
   "id": "80bd04eb-93e2-4295-839c-405c506bab62",
   "metadata": {},
   "outputs": [
    {
     "name": "stderr",
     "output_type": "stream",
     "text": [
      "/opt/conda/envs/rpy2/lib/python3.10/site-packages/anndata2ri/_r2py.py:132: FutureWarning: X.dtype being converted to np.float32 from float64. In the next version of anndata (0.9) conversion will not be automatic. Pass dtype explicitly to avoid this warning. Pass `AnnData(X, dtype=X.dtype, ...)` to get the future behavour.\n",
      "  return AnnData(exprs, obs, var, uns, obsm, layers=layers)\n"
     ]
    }
   ],
   "source": [
    "## SUBLINEAGE OBJECT PROCESSING - ENDOTHELIAL (RECLUSTERING OF CLUSTER 2)\n",
    "\n",
    "#Read Seurat object into R\n",
    "robjects.r('seurat_object = readRDS(\"/scratch/smallapragada/run2/run2_endo_reclustering_c2_2024_08_15.rds\")')\n",
    "\n",
    "#Convert Seurat object to Anndata.\n",
    "adata = robjects.r('as.SingleCellExperiment(seurat_object)')\n",
    "\n",
    "#Check to make sure conversion worked and possibly cast counts to array if necessary.\n",
    "adata.X \n",
    "\n",
    "#Write anndata to pickle file.\n",
    "with open(\"merged_spatial_filtered_endo_c2\", \"wb\") as adata_object:\n",
    "    pickle.dump(adata, adata_object)\n",
    "\n",
    "#Migrate to Clustering.ipynb script."
   ]
  },
  {
   "cell_type": "code",
   "execution_count": 9,
   "id": "bc11e7de-4d1b-4d65-9981-7b7c04bcefd7",
   "metadata": {},
   "outputs": [],
   "source": [
    "## SUBLINEAGE OBJECT PROCESSING - ENDOTHELIAL (RECLUSTERING OF CLUSTER 3)\n",
    "\n",
    "#Read Seurat object into R\n",
    "robjects.r('seurat_object = readRDS(\"/scratch/smallapragada/run2/run2_endo_reclustering_c3_2024_08_15.rds\")')\n",
    "\n",
    "#Convert Seurat object to Anndata.\n",
    "adata = robjects.r('as.SingleCellExperiment(seurat_object)')\n",
    "\n",
    "#Check to make sure conversion worked and possibly cast counts to array if necessary.\n",
    "adata.X \n",
    "\n",
    "#Write anndata to pickle file.\n",
    "with open(\"merged_spatial_filtered_endo_c3\", \"wb\") as adata_object:\n",
    "    pickle.dump(adata, adata_object)\n",
    "\n",
    "#Migrate to Clustering.ipynb script."
   ]
  },
  {
   "cell_type": "code",
   "execution_count": 5,
   "id": "a1b5ed73-7a22-4c75-9fee-a4e927af9456",
   "metadata": {},
   "outputs": [],
   "source": [
    "## SUBLINEAGE OBJECT PROCESSING - ENDOTHELIAL (RECLUSTERING OF CLUSTER 4)\n",
    "\n",
    "#Read Seurat object into R\n",
    "robjects.r('seurat_object = readRDS(\"/scratch/smallapragada/run2/run2_endo_reclustering_c4_2024_08_15.rds\")')\n",
    "\n",
    "#Convert Seurat object to Anndata.\n",
    "adata = robjects.r('as.SingleCellExperiment(seurat_object)')\n",
    "\n",
    "#Check to make sure conversion worked and possibly cast counts to array if necessary.\n",
    "adata.X\n",
    "\n",
    "#Write anndata to pickle file.\n",
    "with open(\"merged_spatial_filtered_endo_c4\", \"wb\") as adata_object:\n",
    "    pickle.dump(adata, adata_object)\n",
    "\n",
    "#Migrate to Clustering.ipynb script."
   ]
  },
  {
   "cell_type": "markdown",
   "id": "0c6e1073-ac8d-453a-8d50-db762a0034a8",
   "metadata": {
    "jp-MarkdownHeadingCollapsed": true
   },
   "source": [
    "### MESENCHYMAL"
   ]
  },
  {
   "cell_type": "code",
   "execution_count": null,
   "id": "21b4c5de-f7cd-4a3d-abfb-cb8b07f37544",
   "metadata": {},
   "outputs": [],
   "source": [
    "## SUBLINEAGE OBJECT PROCESSING - FULL MESENCHYMAL OBJECT\n",
    "\n",
    "#Read Seurat object into R\n",
    "robjects.r('seurat_object = readRDS(\"/scratch/smallapragada/run2/run2_mes_2024_08_15.rds\")')\n",
    "\n",
    "#Convert Seurat object to Anndata.\n",
    "adata = robjects.r('as.SingleCellExperiment(seurat_object)')\n",
    "\n",
    "#Check to make sure conversion worked and possibly cast counts to array if necessary.\n",
    "adata.X\n",
    "\n",
    "#Write anndata to pickle file.\n",
    "with open(\"merged_spatial_filtered_mes\", \"wb\") as adata_object:\n",
    "    pickle.dump(adata, adata_object)\n",
    "\n",
    "#Migrate to Clustering.ipynb script."
   ]
  },
  {
   "cell_type": "code",
   "execution_count": 3,
   "id": "766e3b66-8e8a-4388-9de7-a9fe431e98e7",
   "metadata": {},
   "outputs": [
    {
     "name": "stderr",
     "output_type": "stream",
     "text": [
      "/opt/conda/envs/rpy2/lib/python3.10/site-packages/anndata2ri/_r2py.py:132: FutureWarning: X.dtype being converted to np.float32 from float64. In the next version of anndata (0.9) conversion will not be automatic. Pass dtype explicitly to avoid this warning. Pass `AnnData(X, dtype=X.dtype, ...)` to get the future behavour.\n",
      "  return AnnData(exprs, obs, var, uns, obsm, layers=layers)\n"
     ]
    }
   ],
   "source": [
    "## SUBLINEAGE OBJECT PROCESSING - MESENCHYMAL (RECLUSTERING OF CLUSTER 11)\n",
    "\n",
    "#Read Seurat object into R\n",
    "robjects.r('seurat_object = readRDS(\"/scratch/smallapragada/run2/run2_mes_reclustering_c11_2024_08_15.rds\")')\n",
    "\n",
    "#Convert Seurat object to Anndata.\n",
    "adata = robjects.r('as.SingleCellExperiment(seurat_object)')\n",
    "\n",
    "#Check to make sure conversion worked and possibly cast counts to array if necessary.\n",
    "adata.X \n",
    "\n",
    "#Write anndata to pickle file.\n",
    "with open(\"merged_spatial_filtered_mes_c11\", \"wb\") as adata_object:\n",
    "    pickle.dump(adata, adata_object)\n",
    "\n",
    "#Migrate to Clustering.ipynb script."
   ]
  },
  {
   "cell_type": "code",
   "execution_count": 4,
   "id": "6687de9b-9b72-4fe7-af7b-8ee51a36031b",
   "metadata": {},
   "outputs": [],
   "source": [
    "## SUBLINEAGE OBJECT PROCESSING - MESENCHYMAL (RECLUSTERING OF CLUSTER 12)\n",
    "\n",
    "#Read Seurat object into R\n",
    "robjects.r('seurat_object = readRDS(\"/scratch/smallapragada/run2/run2_mes_reclustering_c12_2024_08_15.rds\")')\n",
    "\n",
    "#Convert Seurat object to Anndata.\n",
    "adata = robjects.r('as.SingleCellExperiment(seurat_object)')\n",
    "\n",
    "#Check to make sure conversion worked and possibly cast counts to array if necessary.\n",
    "adata.X \n",
    "\n",
    "#Write anndata to pickle file.\n",
    "with open(\"merged_spatial_filtered_mes_c12\", \"wb\") as adata_object:\n",
    "    pickle.dump(adata, adata_object)\n",
    "\n",
    "#Migrate to Clustering.ipynb script."
   ]
  },
  {
   "cell_type": "code",
   "execution_count": 5,
   "id": "bdff35df-a91f-4528-8b47-051ab2db205d",
   "metadata": {},
   "outputs": [],
   "source": [
    "## SUBLINEAGE OBJECT PROCESSING - MESENCHYMAL (RECLUSTERING OF CLUSTER 14 AND 15)\n",
    "\n",
    "#Read Seurat object into R\n",
    "robjects.r('seurat_object = readRDS(\"/scratch/smallapragada/run2/run2_mes_reclustering_c14_c15_2024_08_15.rds\")')\n",
    "\n",
    "#Convert Seurat object to Anndata.\n",
    "adata = robjects.r('as.SingleCellExperiment(seurat_object)')\n",
    "\n",
    "#Check to make sure conversion worked and possibly cast counts to array if necessary.\n",
    "adata.X\n",
    "\n",
    "#Write anndata to pickle file.\n",
    "with open(\"merged_spatial_filtered_mes_c14_15\", \"wb\") as adata_object:\n",
    "    pickle.dump(adata, adata_object)\n",
    "\n",
    "#Migrate to Clustering.ipynb script."
   ]
  },
  {
   "cell_type": "markdown",
   "id": "1618d43a-17b3-4c79-8bd4-842e4975c71f",
   "metadata": {
    "jp-MarkdownHeadingCollapsed": true
   },
   "source": [
    "### LYMPHOID"
   ]
  },
  {
   "cell_type": "code",
   "execution_count": 6,
   "id": "5dbaf4e2-9bef-4da2-8f40-d8f8f4fdc4cb",
   "metadata": {},
   "outputs": [],
   "source": [
    "## SUBLINEAGE OBJECT PROCESSING - FULL LYMPHOID OBJECT\n",
    "\n",
    "#Read Seurat object into R\n",
    "robjects.r('seurat_object = readRDS(\"/scratch/smallapragada/run2/run2_lymph_2024_08_15.rds\")')\n",
    "\n",
    "#Convert Seurat object to Anndata.\n",
    "adata = robjects.r('as.SingleCellExperiment(seurat_object)')\n",
    "\n",
    "#Check to make sure conversion worked and possibly cast counts to array if necessary.\n",
    "adata.X\n",
    "\n",
    "#Write anndata to pickle file.\n",
    "with open(\"merged_spatial_filtered_lymph\", \"wb\") as adata_object:\n",
    "    pickle.dump(adata, adata_object)\n",
    "\n",
    "#Migrate to Clustering.ipynb script."
   ]
  },
  {
   "cell_type": "markdown",
   "id": "0c1e3985-e195-4871-b432-4a0be26cb665",
   "metadata": {
    "jp-MarkdownHeadingCollapsed": true
   },
   "source": [
    "### MYELOID"
   ]
  },
  {
   "cell_type": "code",
   "execution_count": null,
   "id": "5156eb67-f83e-47e6-9915-22f1ed548bd6",
   "metadata": {},
   "outputs": [],
   "source": [
    "## SUBLINEAGE OBJECT PROCESSING - FULL MYELOID OBJECT\n",
    "\n",
    "#Read Seurat object into R\n",
    "robjects.r('seurat_object = readRDS(\"/scratch/smallapragada/run2/run2_mye_2024_08_15.rds\")')\n",
    "\n",
    "#Convert Seurat object to Anndata.\n",
    "adata = robjects.r('as.SingleCellExperiment(seurat_object)')\n",
    "\n",
    "#Check to make sure conversion worked and possibly cast counts to array if necessary.\n",
    "adata.X\n",
    "\n",
    "#Write anndata to pickle file.\n",
    "with open(\"merged_spatial_filtered_mye\", \"wb\") as adata_object:\n",
    "    pickle.dump(adata, adata_object)\n",
    "\n",
    "#Migrate to Clustering.ipynb script."
   ]
  },
  {
   "cell_type": "code",
   "execution_count": 7,
   "id": "f594b613-e295-46af-9e65-f7855b6f3ae7",
   "metadata": {},
   "outputs": [],
   "source": [
    "## SUBLINEAGE OBJECT PROCESSING - MYELOID (RECLUSTERING OF CLUSTER 3)\n",
    "\n",
    "#Read Seurat object into R\n",
    "robjects.r('seurat_object = readRDS(\"/scratch/smallapragada/run2/run2_mye_reclustering_c3_2024_08_15.rds\")')\n",
    "\n",
    "#Convert Seurat object to Anndata.\n",
    "adata = robjects.r('as.SingleCellExperiment(seurat_object)')\n",
    "\n",
    "#Check to make sure conversion worked and possibly cast counts to array if necessary.\n",
    "adata.X \n",
    "\n",
    "#Write anndata to pickle file.\n",
    "with open(\"merged_spatial_filtered_mye_c3\", \"wb\") as adata_object:\n",
    "    pickle.dump(adata, adata_object)\n",
    "\n",
    "#Migrate to Clustering.ipynb script."
   ]
  },
  {
   "cell_type": "code",
   "execution_count": 8,
   "id": "5234eb8f-6773-45ad-ae98-6a959b4beca1",
   "metadata": {},
   "outputs": [],
   "source": [
    "## SUBLINEAGE OBJECT PROCESSING - MYELOID (RECLUSTERING OF CLUSTER 8)\n",
    "\n",
    "#Read Seurat object into R\n",
    "robjects.r('seurat_object = readRDS(\"/scratch/smallapragada/run2/run2_mye_reclustering_c8_2024_08_15.rds\")')\n",
    "\n",
    "#Convert Seurat object to Anndata.\n",
    "adata = robjects.r('as.SingleCellExperiment(seurat_object)')\n",
    "\n",
    "#Check to make sure conversion worked and possibly cast counts to array if necessary.\n",
    "adata.X\n",
    "\n",
    "#Write anndata to pickle file.\n",
    "with open(\"merged_spatial_filtered_mye_c8\", \"wb\") as adata_object:\n",
    "    pickle.dump(adata, adata_object)\n",
    "\n",
    "#Migrate to Clustering.ipynb script."
   ]
  },
  {
   "cell_type": "markdown",
   "id": "0a7096ac-e3b2-4e50-a3f9-41ed8e4d1c1c",
   "metadata": {},
   "source": [
    "### SECONDARY OBJECTS"
   ]
  },
  {
   "cell_type": "code",
   "execution_count": 4,
   "id": "10ebad42-36b9-490c-af4b-8e9f5ecdf5c9",
   "metadata": {},
   "outputs": [],
   "source": [
    "## GRANULAR LABELING - ENDOTHELIAL CLEAN UP (RECLUSTERING OF ENDOTHELIAL CELL TYPES AND NEUTROPHILS)\n",
    "\n",
    "#Read Seurat object into R\n",
    "robjects.r('seurat_object = readRDS(\"/scratch/smallapragada/run2/run2_endo_CTs_cleanup_2024_08_15.rds\")')\n",
    "\n",
    "#Convert Seurat object to Anndata.\n",
    "adata = robjects.r('as.SingleCellExperiment(seurat_object)')\n",
    "\n",
    "#Check to make sure conversion worked and possibly cast counts to array if necessary.\n",
    "adata.X \n",
    "\n",
    "#Write anndata to pickle file.\n",
    "with open(\"merged_spatial_filtered_endo_cleanup\", \"wb\") as adata_object:\n",
    "    pickle.dump(adata, adata_object)\n",
    "\n",
    "#Migrate to Clustering.ipynb script."
   ]
  },
  {
   "cell_type": "code",
   "execution_count": 5,
   "id": "3dc2cc49-36e3-4e50-93d4-1bd33aacd829",
   "metadata": {},
   "outputs": [],
   "source": [
    "## GRANULAR LABELING - AT2 CLEAN UP (RECLUSTERING OF AT2 CELL TYPES)\n",
    "\n",
    "#Read Seurat object into R\n",
    "robjects.r('seurat_object = readRDS(\"/scratch/smallapragada/run2/run2_at2_CTs_cleanup_2024_08_15.rds\")')\n",
    "\n",
    "#Convert Seurat object to Anndata.\n",
    "adata = robjects.r('as.SingleCellExperiment(seurat_object)')\n",
    "\n",
    "#Check to make sure conversion worked and possibly cast counts to array if necessary.\n",
    "adata.X\n",
    "\n",
    "#Write anndata to pickle file.\n",
    "with open(\"merged_spatial_filtered_at2_cleanup\", \"wb\") as adata_object:\n",
    "    pickle.dump(adata, adata_object)\n",
    "\n",
    "#Migrate to Clustering.ipynb script."
   ]
  },
  {
   "cell_type": "code",
   "execution_count": 2,
   "id": "2665c905-c289-4e6e-808b-8466bccd6a17",
   "metadata": {},
   "outputs": [
    {
     "name": "stderr",
     "output_type": "stream",
     "text": [
      "/opt/conda/envs/rpy2/lib/python3.10/site-packages/anndata2ri/_r2py.py:132: FutureWarning: X.dtype being converted to np.float32 from float64. In the next version of anndata (0.9) conversion will not be automatic. Pass dtype explicitly to avoid this warning. Pass `AnnData(X, dtype=X.dtype, ...)` to get the future behavour.\n",
      "  return AnnData(exprs, obs, var, uns, obsm, layers=layers)\n"
     ]
    }
   ],
   "source": [
    "## GRANULAR LABELING - AIRWAY CLEAN UP (RECLUSTERING OF AIRWAY CELL TYPES)\n",
    "\n",
    "#Read Seurat object into R\n",
    "robjects.r('seurat_object = readRDS(\"/scratch/smallapragada/run2/run2_airway_CTs_cleanup_2024_08_15.rds\")')\n",
    "\n",
    "#Convert Seurat object to Anndata.\n",
    "adata = robjects.r('as.SingleCellExperiment(seurat_object)')\n",
    "\n",
    "#Check to make sure conversion worked and possibly cast counts to array if necessary.\n",
    "adata.X\n",
    "\n",
    "#Write anndata to pickle file.\n",
    "with open(\"merged_spatial_filtered_airway_cleanup\", \"wb\") as adata_object:\n",
    "    pickle.dump(adata, adata_object)\n",
    "\n",
    "#Migrate to Clustering.ipynb script."
   ]
  },
  {
   "cell_type": "code",
   "execution_count": 2,
   "id": "ac44df0c-a606-47ea-b627-77a3dac6935a",
   "metadata": {},
   "outputs": [
    {
     "name": "stderr",
     "output_type": "stream",
     "text": [
      "/opt/conda/envs/rpy2/lib/python3.10/site-packages/anndata2ri/_r2py.py:132: FutureWarning: X.dtype being converted to np.float32 from float64. In the next version of anndata (0.9) conversion will not be automatic. Pass dtype explicitly to avoid this warning. Pass `AnnData(X, dtype=X.dtype, ...)` to get the future behavour.\n",
      "  return AnnData(exprs, obs, var, uns, obsm, layers=layers)\n"
     ]
    }
   ],
   "source": [
    "## GRANULAR LABELING - MYELOID CLEAN UP (RECLUSTERING OF MYELOID CELL TYPES)\n",
    "\n",
    "#Read Seurat object into R\n",
    "robjects.r('seurat_object = readRDS(\"/scratch/smallapragada/run2/run2_mye_CTs_cleanup_2024_08_15.rds\")')\n",
    "\n",
    "#Convert Seurat object to Anndata.\n",
    "adata = robjects.r('as.SingleCellExperiment(seurat_object)')\n",
    "\n",
    "#Check to make sure conversion worked and possibly cast counts to array if necessary.\n",
    "adata.X \n",
    "\n",
    "#Write anndata to pickle file.\n",
    "with open(\"merged_spatial_filtered_mye_cleanup\", \"wb\") as adata_object:\n",
    "    pickle.dump(adata, adata_object)\n",
    "\n",
    "#Migrate to Clustering.ipynb script."
   ]
  },
  {
   "cell_type": "code",
   "execution_count": 3,
   "id": "b352a779-49f6-4475-a522-599db0cbb627",
   "metadata": {},
   "outputs": [],
   "source": [
    "## GRANULAR LABELING - MACROPHAGE CLEAN UP (RECLUSTERING OF MACROPHAGES)\n",
    "\n",
    "#Read Seurat object into R\n",
    "robjects.r('seurat_object = readRDS(\"/scratch/smallapragada/run2/run2_macs_cleanup_2024_08_15.rds\")')\n",
    "\n",
    "#Convert Seurat object to Anndata.\n",
    "adata = robjects.r('as.SingleCellExperiment(seurat_object)')\n",
    "\n",
    "#Check to make sure conversion worked and possibly cast counts to array if necessary.\n",
    "adata.X \n",
    "\n",
    "#Write anndata to pickle file.\n",
    "with open(\"merged_spatial_filtered_mac_cleanup\", \"wb\") as adata_object:\n",
    "    pickle.dump(adata, adata_object)\n",
    "\n",
    "#Migrate to Clustering.ipynb script."
   ]
  },
  {
   "cell_type": "code",
   "execution_count": 4,
   "id": "ab06331a-4363-4722-bafb-aee44b35aa33",
   "metadata": {},
   "outputs": [],
   "source": [
    "## GRANULAR LABELING - FIBROBLASTS CLEAN UP (RECLUSTERING OF FIBROBLASTS)\n",
    "\n",
    "#Read Seurat object into R\n",
    "robjects.r('seurat_object = readRDS(\"/scratch/smallapragada/run2/run2_fib_CTs_cleanup_2024_08_15.rds\")')\n",
    "\n",
    "#Convert Seurat object to Anndata.\n",
    "adata = robjects.r('as.SingleCellExperiment(seurat_object)')\n",
    "\n",
    "#Check to make sure conversion worked and possibly cast counts to array if necessary.\n",
    "adata.X \n",
    "\n",
    "#Write anndata to pickle file.\n",
    "with open(\"merged_spatial_filtered_fib_cleanup\", \"wb\") as adata_object:\n",
    "    pickle.dump(adata, adata_object)\n",
    "\n",
    "#Migrate to Clustering.ipynb script."
   ]
  }
 ],
 "metadata": {
  "kernelspec": {
   "display_name": "Python [conda env:rpy2] *",
   "language": "python",
   "name": "conda-env-rpy2-py"
  },
  "language_info": {
   "codemirror_mode": {
    "name": "ipython",
    "version": 3
   },
   "file_extension": ".py",
   "mimetype": "text/x-python",
   "name": "python",
   "nbconvert_exporter": "python",
   "pygments_lexer": "ipython3",
   "version": "3.10.13"
  }
 },
 "nbformat": 4,
 "nbformat_minor": 5
}
