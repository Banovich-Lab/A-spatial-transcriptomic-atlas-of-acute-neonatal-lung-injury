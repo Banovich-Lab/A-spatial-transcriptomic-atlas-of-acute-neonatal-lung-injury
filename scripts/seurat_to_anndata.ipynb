{
 "cells": [
  {
   "cell_type": "code",
   "execution_count": 2,
   "id": "234623a3-8da9-40a5-be04-f9b98c3d2dd0",
   "metadata": {},
   "outputs": [
    {
     "name": "stderr",
     "output_type": "stream",
     "text": [
      "/tmp/ipykernel_3871449/834370561.py:11: DeprecationWarning: The global conversion available with activate() is deprecated and will be removed in the next major release. Use a local converter.\n",
      "  anndata2ri.activate()\n"
     ]
    }
   ],
   "source": [
    "#Kernal: Python[conda env:rpy2]\n",
    "\n",
    "import pickle\n",
    "import anndata2ri\n",
    "import scanpy\n",
    "import rpy2\n",
    "import rpy2.robjects as robjects\n",
    "from rpy2.robjects.packages import importr\n",
    "\n",
    "#This activates the object conversion.\n",
    "anndata2ri.activate()\n",
    "%load_ext rpy2.ipython"
   ]
  },
  {
   "cell_type": "code",
   "execution_count": 3,
   "id": "f3ad044b-a3ee-4724-b723-dce8fc45b123",
   "metadata": {},
   "outputs": [
    {
     "name": "stdout",
     "output_type": "stream",
     "text": [
      "\n",
      "    WARNING: The R package \"reticulate\" only fixed recently\n",
      "    an issue that caused a segfault when used with rpy2:\n",
      "    https://github.com/rstudio/reticulate/pull/1188\n",
      "    Make sure that you use a version of that package that includes\n",
      "    the fix.\n",
      "    "
     ]
    }
   ],
   "source": [
    "#Import needed R libraries.\n",
    "seurat = importr('Seurat')\n",
    "base = importr('base')"
   ]
  },
  {
   "cell_type": "code",
   "execution_count": 4,
   "id": "5330556f-aacd-439f-a2cd-ef07241d5fcd",
   "metadata": {},
   "outputs": [
    {
     "data": {
      "text/plain": [
       "<rpy2.robjects.methods.RS4 object at 0x1555433a2d00> [RTYPES.S4SXP]\n",
       "R classes: ('Seurat',)"
      ]
     },
     "execution_count": 4,
     "metadata": {},
     "output_type": "execute_result"
    }
   ],
   "source": [
    "#Read Seurat object into R.\n",
    "robjects.r('seurat_object = readRDS(\"/scratch/smallapragada/run2/run2_airway_2024_08_15.rds\")')"
   ]
  },
  {
   "cell_type": "code",
   "execution_count": 6,
   "id": "ec0f709f-9cc2-415a-b038-0db60ffb7f77",
   "metadata": {},
   "outputs": [
    {
     "name": "stderr",
     "output_type": "stream",
     "text": [
      "/opt/conda/envs/rpy2/lib/python3.10/site-packages/anndata2ri/_r2py.py:132: FutureWarning: X.dtype being converted to np.float32 from float64. In the next version of anndata (0.9) conversion will not be automatic. Pass dtype explicitly to avoid this warning. Pass `AnnData(X, dtype=X.dtype, ...)` to get the future behavour.\n",
      "  return AnnData(exprs, obs, var, uns, obsm, layers=layers)\n"
     ]
    }
   ],
   "source": [
    "#Merge layers because Seurat object versioning is wild. Convert Seurat object to Anndata.\n",
    "#robjects.r('seurat_object = JoinLayers(seurat_object)')\n",
    "adata = robjects.r('as.SingleCellExperiment(seurat_object)')"
   ]
  },
  {
   "cell_type": "code",
   "execution_count": 7,
   "id": "7ceb9801-c0eb-43e4-a82e-feded29d9bcb",
   "metadata": {},
   "outputs": [
    {
     "ename": "AttributeError",
     "evalue": "'numpy.ndarray' object has no attribute 'toarray'",
     "output_type": "error",
     "traceback": [
      "\u001b[0;31m---------------------------------------------------------------------------\u001b[0m",
      "\u001b[0;31mAttributeError\u001b[0m                            Traceback (most recent call last)",
      "Cell \u001b[0;32mIn[7], line 2\u001b[0m\n\u001b[1;32m      1\u001b[0m \u001b[38;5;66;03m#Check to make sure conversion worked and possibly cast counts to array if necessary.\u001b[39;00m\n\u001b[0;32m----> 2\u001b[0m adata\u001b[38;5;241m.\u001b[39mX \u001b[38;5;241m=\u001b[39m \u001b[43madata\u001b[49m\u001b[38;5;241;43m.\u001b[39;49m\u001b[43mX\u001b[49m\u001b[38;5;241;43m.\u001b[39;49m\u001b[43mtoarray\u001b[49m()\n",
      "\u001b[0;31mAttributeError\u001b[0m: 'numpy.ndarray' object has no attribute 'toarray'"
     ]
    }
   ],
   "source": [
    "#Check to make sure conversion worked and possibly cast counts to array if necessary.\n",
    "adata.X = adata.X.toarray()"
   ]
  },
  {
   "cell_type": "code",
   "execution_count": 8,
   "id": "afd9f6cc-bb4c-4255-8947-f1d42da50429",
   "metadata": {},
   "outputs": [
    {
     "data": {
      "text/plain": [
       "array([[0., 0., 0., ..., 0., 1., 0.],\n",
       "       [0., 0., 0., ..., 0., 0., 0.],\n",
       "       [0., 0., 0., ..., 0., 0., 0.],\n",
       "       ...,\n",
       "       [0., 0., 1., ..., 3., 0., 0.],\n",
       "       [0., 0., 1., ..., 0., 1., 0.],\n",
       "       [0., 0., 1., ..., 0., 3., 0.]], dtype=float32)"
      ]
     },
     "execution_count": 8,
     "metadata": {},
     "output_type": "execute_result"
    }
   ],
   "source": [
    "adata.X"
   ]
  },
  {
   "cell_type": "code",
   "execution_count": 7,
   "id": "0d298c8d-68b7-4568-a39a-ad9519784ad9",
   "metadata": {},
   "outputs": [],
   "source": [
    "del adata.layers"
   ]
  },
  {
   "cell_type": "code",
   "execution_count": 9,
   "id": "93aabff9-3b0f-4eab-ac49-72d4bdf1b33d",
   "metadata": {},
   "outputs": [],
   "source": [
    "#Write anndata to pickle file. Next move to the clustering script.\n",
    "with open(\"merged_spatial_filtered_airway\", \"wb\") as adata_object:\n",
    "    pickle.dump(adata, adata_object)"
   ]
  },
  {
   "cell_type": "code",
   "execution_count": 10,
   "id": "a2097363-fcbe-4831-896e-5142d8d064e8",
   "metadata": {},
   "outputs": [
    {
     "data": {
      "text/plain": [
       "AnnData object with n_obs × n_vars = 106060 × 343\n",
       "    obs: 'X', 'orig.ident', 'nCount_RNA', 'nFeature_RNA', 'x_centroid', 'y_centroid', 'transcript_counts', 'control_probe_counts', 'control_codeword_counts', 'unassigned_codeword_counts', 'deprecated_codeword_counts', 'total_counts', 'cell_area', 'nucleus_area', 'percent_negcodes', 'percent_negprobes', 'Sample', 'Slide', 'Timepoint', 'Phenotype', 'adj_x_centroid', 'adj_y_centroid', 'ident', 'leiden_brl_0.25', 'leiden_brl_0.5', 'leiden_brl_0.75', 'leiden_brl_1.0'\n",
       "    obsm: 'SP', 'X_pca', 'X_umap'\n",
       "    layers: 'logcounts', 'scaledata'"
      ]
     },
     "execution_count": 10,
     "metadata": {},
     "output_type": "execute_result"
    }
   ],
   "source": [
    "adata"
   ]
  },
  {
   "cell_type": "code",
   "execution_count": null,
   "id": "b663f20e-70fe-4323-970b-6bc29bf61faf",
   "metadata": {},
   "outputs": [],
   "source": []
  }
 ],
 "metadata": {
  "kernelspec": {
   "display_name": "Python [conda env:rpy2] *",
   "language": "python",
   "name": "conda-env-rpy2-py"
  },
  "language_info": {
   "codemirror_mode": {
    "name": "ipython",
    "version": 3
   },
   "file_extension": ".py",
   "mimetype": "text/x-python",
   "name": "python",
   "nbconvert_exporter": "python",
   "pygments_lexer": "ipython3",
   "version": "3.10.13"
  }
 },
 "nbformat": 4,
 "nbformat_minor": 5
}
